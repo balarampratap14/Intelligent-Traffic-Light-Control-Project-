{
 "cells": [
  {
   "cell_type": "markdown",
   "metadata": {},
   "source": [
    "# import library"
   ]
  },
  {
   "cell_type": "code",
   "execution_count": 12,
   "metadata": {},
   "outputs": [],
   "source": [
    "import numpy as np\n",
    "import cv2\n",
    "import time \n",
    "from PIL import Image\n",
    "from PIL import ImageEnhance\n",
    "import tensorflow\n",
    "from imageai.Detection import ObjectDetection\n",
    "import os"
   ]
  },
  {
   "cell_type": "markdown",
   "metadata": {},
   "source": [
    "## Getting data from IP address"
   ]
  },
  {
   "cell_type": "code",
   "execution_count": 13,
   "metadata": {},
   "outputs": [
    {
     "data": {
      "text/plain": [
       "True"
      ]
     },
     "execution_count": 13,
     "metadata": {},
     "output_type": "execute_result"
    }
   ],
   "source": [
    "# printing the start time  \n",
    "#print(\"The time of code execution begin is : \", end =\"\") \n",
    "#print(time.ctime()) \n",
    "# using sleep() to hault the code execution \n",
    "img_res = requests.get(\"http://192.168.43.1:8080/shot.jpg\")\n",
    "img_arr = np.array(bytearray(img_res.content), dtype = np.uint8)\n",
    "img = cv2.imdecode(img_arr,-1)\n",
    "cv2.imwrite('C:\\\\Users\\\\500061550\\\\Desktop\\\\minor\\\\Untitled Folder\\\\original1.jpg',img) "
   ]
  },
  {
   "cell_type": "markdown",
   "metadata": {},
   "source": [
    "## Crop the image"
   ]
  },
  {
   "cell_type": "code",
   "execution_count": 14,
   "metadata": {},
   "outputs": [
    {
     "data": {
      "text/plain": [
       "True"
      ]
     },
     "execution_count": 14,
     "metadata": {},
     "output_type": "execute_result"
    }
   ],
   "source": [
    "\n",
    "img = cv2.imread('original1.jpg')\n",
    "y=200\n",
    "x=0\n",
    "h=1007\n",
    "w=1700\n",
    "crop_img = img[y:y+h, x:x+w]\n",
    "cv2.imwrite('re_size3.jpg',crop_img)"
   ]
  },
  {
   "cell_type": "markdown",
   "metadata": {},
   "source": [
    "## Adjust brightness"
   ]
  },
  {
   "cell_type": "code",
   "execution_count": 15,
   "metadata": {},
   "outputs": [],
   "source": [
    "def adjust_brightness(input_image, output_image, factor):\n",
    "    image = Image.open(input_image)\n",
    "    enhancer_object = ImageEnhance.Brightness(image)\n",
    "    out = enhancer_object.enhance(factor)\n",
    "    out.save(output_image)"
   ]
  },
  {
   "cell_type": "code",
   "execution_count": 16,
   "metadata": {},
   "outputs": [],
   "source": [
    "def adjust_contrast(input_image, output_image, factor):\n",
    "    image = Image.open(input_image)\n",
    "    enhancer_object = ImageEnhance.Contrast(image)\n",
    "    out = enhancer_object.enhance(factor)\n",
    "    out.save(output_image)"
   ]
  },
  {
   "cell_type": "code",
   "execution_count": 17,
   "metadata": {},
   "outputs": [],
   "source": [
    "def adjust_sharpness(input_image, output_image, factor):\n",
    "    image = Image.open(input_image)\n",
    "    enhancer_object = ImageEnhance.Sharpness(image)\n",
    "    out = enhancer_object.enhance(factor)\n",
    "    out.save(output_image)"
   ]
  },
  {
   "cell_type": "code",
   "execution_count": 18,
   "metadata": {},
   "outputs": [],
   "source": [
    "adjust_brightness('re_size3.jpg','brightness.jpg',1.3)\n",
    "adjust_contrast('brightness.jpg','contrast.jpg', 1.7)\n",
    "adjust_sharpness('contrast.jpg','sharpness.jpg', 1.4)"
   ]
  },
  {
   "cell_type": "markdown",
   "metadata": {},
   "source": [
    "## Count the number of vichele"
   ]
  },
  {
   "cell_type": "code",
   "execution_count": 19,
   "metadata": {},
   "outputs": [
    {
     "name": "stdout",
     "output_type": "stream",
     "text": [
      "\n",
      "\n",
      "Vehicle Count:  39\n"
     ]
    }
   ],
   "source": [
    "execution_path = os.getcwd()\n",
    "detector = ObjectDetection()\n",
    "detector.setModelTypeAsRetinaNet()\n",
    "detector.setModelPath( os.path.join(execution_path , \"resnet50_coco_best_v2.0.1.h5\"))\n",
    "detector.loadModel()\n",
    "detections = detector.detectObjectsFromImage(input_image=os.path.join(execution_path , \"re_size3.jpg\"), output_image_path=os.path.join(execution_path , \"image_out3.jpg\"))\n",
    "people=0\n",
    "vehicles=0\n",
    "for eachObject in detections:\n",
    "    if eachObject[\"name\"] == \"person\" :\n",
    "        people=people+1\n",
    "    elif eachObject[\"name\"] in {\"car\",\"bicycle\",\"motorcycle\",\"truck\"} :\n",
    "        vehicles=vehicles+1\n",
    "    #print(eachObject[\"name\"] , \" : \" , eachObject[\"percentage_probability\"] )\n",
    "print(\"\\n\\nVehicle Count: \" , vehicles)"
   ]
  },
  {
   "cell_type": "code",
   "execution_count": null,
   "metadata": {},
   "outputs": [],
   "source": []
  }
 ],
 "metadata": {
  "kernelspec": {
   "display_name": "Python 3",
   "language": "python",
   "name": "python3"
  },
  "language_info": {
   "codemirror_mode": {
    "name": "ipython",
    "version": 3
   },
   "file_extension": ".py",
   "mimetype": "text/x-python",
   "name": "python",
   "nbconvert_exporter": "python",
   "pygments_lexer": "ipython3",
   "version": "3.5.0"
  }
 },
 "nbformat": 4,
 "nbformat_minor": 2
}
